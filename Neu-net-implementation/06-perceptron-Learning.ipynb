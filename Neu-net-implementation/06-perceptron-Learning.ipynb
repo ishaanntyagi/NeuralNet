{
 "cells": [
  {
   "cell_type": "code",
   "execution_count": 126,
   "id": "f3868dfa",
   "metadata": {},
   "outputs": [],
   "source": [
    "import torch"
   ]
  },
  {
   "cell_type": "code",
   "execution_count": null,
   "id": "5da25ae8",
   "metadata": {},
   "outputs": [],
   "source": [
    "class Perceptron:\n",
    "    def __init__(self, input_dim):\n",
    "        self.weights = torch.randn(input_dim, dtype=torch.float32)\n",
    "        self.bias = torch.randn(1, dtype=torch.float32)\n",
    "        \n",
    "    def forward(self,x):\n",
    "        z = torch.dot(self.weights, x) + self.bias\n",
    "        output = 1 if(z >= 0) else 0\n",
    "        return output\n",
    "        # print(output)\n",
    "    \n",
    "    def trainingLoop(self, x, y, epochs=10, Lr=0.1):\n",
    "        for epoch in range(epochs):\n",
    "            total_error = 0\n",
    "            for i in range(len(x)):\n",
    "                xi     = x[i]\n",
    "                target = y[i]    \n",
    "                predicted = self.forward(xi)\n",
    "                error = target - predicted \n",
    "                print(error)\n",
    "                self.weights += Lr*xi*error\n",
    "                self.bias    += Lr*error\n",
    "                total_error  += abs(error)\n",
    "            print(total_error)        \n",
    "            #we cannot call this backpropagation as , its just a single neuron \n",
    "            #as BackPropagation needs to be Done by Sgd etc "
   ]
  },
  {
   "cell_type": "code",
   "execution_count": 128,
   "id": "6f548f5c",
   "metadata": {},
   "outputs": [
    {
     "name": "stdout",
     "output_type": "stream",
     "text": [
      "tensor(0.)\n",
      "tensor(0.)\n",
      "tensor(0.)\n",
      "tensor(1.)\n",
      "tensor(1.)\n",
      "tensor(0.)\n",
      "tensor(0.)\n",
      "tensor(0.)\n",
      "tensor(1.)\n",
      "tensor(1.)\n",
      "tensor(0.)\n",
      "tensor(0.)\n",
      "tensor(0.)\n",
      "tensor(1.)\n",
      "tensor(1.)\n",
      "tensor(0.)\n",
      "tensor(0.)\n",
      "tensor(0.)\n",
      "tensor(1.)\n",
      "tensor(1.)\n",
      "tensor(0.)\n",
      "tensor(0.)\n",
      "tensor(0.)\n",
      "tensor(1.)\n",
      "tensor(1.)\n"
     ]
    }
   ],
   "source": [
    "# Sample data for testing\n",
    "import torch\n",
    "x = torch.tensor([[0.,0.],[0.,1.],[1.,0.],[1.,1.]])\n",
    "y = torch.tensor([0.,0.,0.,1.])\n",
    "\n",
    "model = Perceptron(input_dim=2)\n",
    "model.trainingLoop(x, y, epochs=5, Lr=0.1)"
   ]
  },
  {
   "cell_type": "code",
   "execution_count": 129,
   "id": "fec3b3f1",
   "metadata": {},
   "outputs": [
    {
     "name": "stdout",
     "output_type": "stream",
     "text": [
      "Weights: tensor([ 0.7085, -1.4193])\n",
      "Bias: tensor([-1.1356])\n"
     ]
    }
   ],
   "source": [
    "print(\"Weights:\", model.weights)\n",
    "print(\"Bias:\", model.bias)"
   ]
  },
  {
   "cell_type": "code",
   "execution_count": null,
   "id": "b57433e8",
   "metadata": {},
   "outputs": [
    {
     "data": {
      "image/png": "[encoded data removed]",
      "text/plain": [
       "<Figure size 640x480 with 1 Axes>"
      ]
     },
     "metadata": {},
     "output_type": "display_data"
    }
   ],
   "source": [
    "# import matplotlib.pyplot as plt\n",
    "# w = model.weights.detach().numpy()\n",
    "# b = model.bias.item()\n",
    "# plt.scatter([0,0,1,1], [0,1,0,1], c=y, cmap='bwr', s=100)\n",
    "# x_vals = torch.linspace(-0.1, 1.1, 100)\n",
    "# y_vals = (-w[0]*x_vals - b)/w[1]\n",
    "# plt.plot(x_vals, y_vals, 'g--')\n",
    "# plt.xlabel(\"x1\")\n",
    "# plt.ylabel(\"x2\")\n",
    "# plt.title(\"Decision Boundary After Training\")\n",
    "# plt.show()"
   ]
  }
 ],
 "metadata": {
  "kernelspec": {
   "display_name": "Python 3",
   "language": "python",
   "name": "python3"
  },
  "language_info": {
   "codemirror_mode": {
    "name": "ipython",
    "version": 3
   },
   "file_extension": ".py",
   "mimetype": "text/x-python",
   "name": "python",
   "nbconvert_exporter": "python",
   "pygments_lexer": "ipython3",
   "version": "3.11.9"
  }
 },
 "nbformat": 4,
 "nbformat_minor": 5
}
